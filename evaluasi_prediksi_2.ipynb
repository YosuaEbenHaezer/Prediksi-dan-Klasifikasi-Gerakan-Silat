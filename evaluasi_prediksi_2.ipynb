{
 "cells": [
  {
   "cell_type": "markdown",
   "metadata": {
    "id": "RwfBAkfxfx4E"
   },
   "source": [
    "# preprocessing"
   ]
  },
  {
   "cell_type": "code",
   "execution_count": 1,
   "metadata": {},
   "outputs": [],
   "source": [
    "#pip install tqdm\n"
   ]
  },
  {
   "cell_type": "code",
   "execution_count": 2,
   "metadata": {
    "colab": {
     "base_uri": "https://localhost:8080/"
    },
    "id": "F7CYxtdMfleW",
    "outputId": "3c3e8de0-f895-4157-8612-f06384a4b317"
   },
   "outputs": [],
   "source": [
    "import numpy as np\n",
    "import pandas as pd\n",
    "from sklearn.preprocessing import MinMaxScaler\n",
    "from tensorflow.keras import backend as K\n",
    "import matplotlib.pyplot as plt"
   ]
  },
  {
   "cell_type": "code",
   "execution_count": 3,
   "metadata": {
    "id": "1CkyizOvf2L9"
   },
   "outputs": [],
   "source": [
    "# Load dataset\n",
    "file_path_new = \"E:\\Kuliah\\SMSTR 7\\Methopen\\dataset_keypoint-silat\\keypoints_output_silat.csv\" #\n",
    "file_path_old = \"E:\\Kuliah\\CKLIPCI\\dataset_keypoint-silat\\keypoints_output.csv\"  #\n",
    "data = pd.read_csv(file_path_new)\n",
    "dataO = pd.read_csv(file_path_old)\n"
   ]
  },
  {
   "cell_type": "code",
   "execution_count": 4,
   "metadata": {
    "colab": {
     "base_uri": "https://localhost:8080/"
    },
    "id": "gqtGuPc9gDpk",
    "outputId": "a578738e-ceaf-47cb-ca7a-472316e0bde4"
   },
   "outputs": [
    {
     "name": "stdout",
     "output_type": "stream",
     "text": [
      "Jumlah nilai yang hilang dalam setiap kolom:\n",
      "frame             0\n",
      "x_0              32\n",
      "y_0              32\n",
      "z_0              32\n",
      "visibility_0     32\n",
      "                 ..\n",
      "visibility_31    32\n",
      "x_32             32\n",
      "y_32             32\n",
      "z_32             32\n",
      "visibility_32    32\n",
      "Length: 133, dtype: int64\n"
     ]
    }
   ],
   "source": [
    "missing_values = data.isnull().sum()\n",
    "print(\"Jumlah nilai yang hilang dalam setiap kolom:\")\n",
    "print(missing_values)"
   ]
  },
  {
   "cell_type": "code",
   "execution_count": 5,
   "metadata": {
    "colab": {
     "base_uri": "https://localhost:8080/"
    },
    "id": "sYjP3lXkgGC8",
    "outputId": "52696245-0e54-4341-f19f-a70bed945e82"
   },
   "outputs": [
    {
     "name": "stdout",
     "output_type": "stream",
     "text": [
      "Jumlah nilai yang hilang dalam setiap kolom:\n",
      "frame             0\n",
      "x_0              59\n",
      "y_0              59\n",
      "z_0              59\n",
      "visibility_0     59\n",
      "                 ..\n",
      "visibility_31    59\n",
      "x_32             59\n",
      "y_32             59\n",
      "z_32             59\n",
      "visibility_32    59\n",
      "Length: 133, dtype: int64\n"
     ]
    }
   ],
   "source": [
    "missing_values = dataO.isnull().sum()\n",
    "print(\"Jumlah nilai yang hilang dalam setiap kolom:\")\n",
    "print(missing_values)"
   ]
  },
  {
   "cell_type": "code",
   "execution_count": 6,
   "metadata": {
    "colab": {
     "base_uri": "https://localhost:8080/"
    },
    "id": "l1p3KvT_gIRr",
    "outputId": "5f9855d7-2274-4fa7-9cbd-3c4c2529675e"
   },
   "outputs": [
    {
     "name": "stdout",
     "output_type": "stream",
     "text": [
      "frame             0\n",
      "x_0              32\n",
      "y_0              32\n",
      "z_0              32\n",
      "visibility_0     32\n",
      "                 ..\n",
      "visibility_31    32\n",
      "x_32             32\n",
      "y_32             32\n",
      "z_32             32\n",
      "visibility_32    32\n",
      "Length: 133, dtype: int64\n"
     ]
    }
   ],
   "source": [
    "nan_counts = data.isna().sum()\n",
    "print(nan_counts)"
   ]
  },
  {
   "cell_type": "code",
   "execution_count": 7,
   "metadata": {
    "colab": {
     "base_uri": "https://localhost:8080/"
    },
    "id": "dB2OIdPSgJ9j",
    "outputId": "bd747f88-0e48-429d-90fe-dd6594eba7b4"
   },
   "outputs": [
    {
     "name": "stdout",
     "output_type": "stream",
     "text": [
      "frame             0\n",
      "x_0              59\n",
      "y_0              59\n",
      "z_0              59\n",
      "visibility_0     59\n",
      "                 ..\n",
      "visibility_31    59\n",
      "x_32             59\n",
      "y_32             59\n",
      "z_32             59\n",
      "visibility_32    59\n",
      "Length: 133, dtype: int64\n"
     ]
    }
   ],
   "source": [
    "nan_counts = dataO.isna().sum()\n",
    "print(nan_counts)"
   ]
  },
  {
   "cell_type": "code",
   "execution_count": 8,
   "metadata": {
    "id": "ombCrGWdgLoj"
   },
   "outputs": [],
   "source": [
    "data_cleaned = data.dropna()\n",
    "data_cleanedO = dataO.dropna()"
   ]
  },
  {
   "cell_type": "code",
   "execution_count": 9,
   "metadata": {
    "colab": {
     "base_uri": "https://localhost:8080/"
    },
    "id": "Y3TwmfB1gNU2",
    "outputId": "9256e075-35ee-467c-f35d-15d4d41ce874"
   },
   "outputs": [
    {
     "name": "stdout",
     "output_type": "stream",
     "text": [
      "frame            0\n",
      "x_0              0\n",
      "y_0              0\n",
      "z_0              0\n",
      "visibility_0     0\n",
      "                ..\n",
      "visibility_31    0\n",
      "x_32             0\n",
      "y_32             0\n",
      "z_32             0\n",
      "visibility_32    0\n",
      "Length: 133, dtype: int64\n",
      "frame            0\n",
      "x_0              0\n",
      "y_0              0\n",
      "z_0              0\n",
      "visibility_0     0\n",
      "                ..\n",
      "visibility_31    0\n",
      "x_32             0\n",
      "y_32             0\n",
      "z_32             0\n",
      "visibility_32    0\n",
      "Length: 133, dtype: int64\n"
     ]
    }
   ],
   "source": [
    "nan_counts = data_cleaned.isna().sum()\n",
    "print(nan_counts)\n",
    "nan_counts = data_cleanedO.isna().sum()\n",
    "print(nan_counts)"
   ]
  },
  {
   "cell_type": "code",
   "execution_count": 10,
   "metadata": {
    "id": "KQgTeQg1gSrF"
   },
   "outputs": [],
   "source": [
    "# Preprocessing: Normalize data\n",
    "#keypoints_data = data_cleaned.drop(columns=['frame'])\n",
    "keypoints_data = data_cleaned[[f'{axis}_{i}' for i in range(23, 33) for axis in ['x', 'y', 'z']]]\n",
    "keypoints_dataO = data_cleanedO[[f'{axis}_{i}' for i in range(23, 33) for axis in ['x', 'y', 'z']]]"
   ]
  },
  {
   "cell_type": "code",
   "execution_count": 11,
   "metadata": {
    "colab": {
     "base_uri": "https://localhost:8080/",
     "height": 424
    },
    "id": "5zJb9ZFogbD0",
    "outputId": "31d48f77-497a-47d7-fbaf-440dfd883fd5"
   },
   "outputs": [
    {
     "data": {
      "text/html": [
       "<div>\n",
       "<style scoped>\n",
       "    .dataframe tbody tr th:only-of-type {\n",
       "        vertical-align: middle;\n",
       "    }\n",
       "\n",
       "    .dataframe tbody tr th {\n",
       "        vertical-align: top;\n",
       "    }\n",
       "\n",
       "    .dataframe thead th {\n",
       "        text-align: right;\n",
       "    }\n",
       "</style>\n",
       "<table border=\"1\" class=\"dataframe\">\n",
       "  <thead>\n",
       "    <tr style=\"text-align: right;\">\n",
       "      <th></th>\n",
       "      <th>x_23</th>\n",
       "      <th>y_23</th>\n",
       "      <th>z_23</th>\n",
       "      <th>x_24</th>\n",
       "      <th>y_24</th>\n",
       "      <th>z_24</th>\n",
       "      <th>x_25</th>\n",
       "      <th>y_25</th>\n",
       "      <th>z_25</th>\n",
       "      <th>x_26</th>\n",
       "      <th>...</th>\n",
       "      <th>z_29</th>\n",
       "      <th>x_30</th>\n",
       "      <th>y_30</th>\n",
       "      <th>z_30</th>\n",
       "      <th>x_31</th>\n",
       "      <th>y_31</th>\n",
       "      <th>z_31</th>\n",
       "      <th>x_32</th>\n",
       "      <th>y_32</th>\n",
       "      <th>z_32</th>\n",
       "    </tr>\n",
       "  </thead>\n",
       "  <tbody>\n",
       "    <tr>\n",
       "      <th>0</th>\n",
       "      <td>0.451331</td>\n",
       "      <td>0.465100</td>\n",
       "      <td>0.110175</td>\n",
       "      <td>0.457470</td>\n",
       "      <td>0.463318</td>\n",
       "      <td>-0.110182</td>\n",
       "      <td>0.491802</td>\n",
       "      <td>0.647482</td>\n",
       "      <td>0.058664</td>\n",
       "      <td>0.494906</td>\n",
       "      <td>...</td>\n",
       "      <td>0.055151</td>\n",
       "      <td>0.426306</td>\n",
       "      <td>0.924302</td>\n",
       "      <td>-0.221915</td>\n",
       "      <td>0.517143</td>\n",
       "      <td>0.894308</td>\n",
       "      <td>0.004046</td>\n",
       "      <td>0.501132</td>\n",
       "      <td>0.925217</td>\n",
       "      <td>-0.295127</td>\n",
       "    </tr>\n",
       "    <tr>\n",
       "      <th>1</th>\n",
       "      <td>0.445983</td>\n",
       "      <td>0.456778</td>\n",
       "      <td>0.122618</td>\n",
       "      <td>0.457885</td>\n",
       "      <td>0.462124</td>\n",
       "      <td>-0.122751</td>\n",
       "      <td>0.492286</td>\n",
       "      <td>0.643434</td>\n",
       "      <td>0.156030</td>\n",
       "      <td>0.499484</td>\n",
       "      <td>...</td>\n",
       "      <td>0.254441</td>\n",
       "      <td>0.427536</td>\n",
       "      <td>0.924301</td>\n",
       "      <td>-0.010263</td>\n",
       "      <td>0.512552</td>\n",
       "      <td>0.891011</td>\n",
       "      <td>0.218607</td>\n",
       "      <td>0.503602</td>\n",
       "      <td>0.925590</td>\n",
       "      <td>-0.075649</td>\n",
       "    </tr>\n",
       "    <tr>\n",
       "      <th>2</th>\n",
       "      <td>0.447754</td>\n",
       "      <td>0.457296</td>\n",
       "      <td>0.109594</td>\n",
       "      <td>0.461995</td>\n",
       "      <td>0.468286</td>\n",
       "      <td>-0.109642</td>\n",
       "      <td>0.491203</td>\n",
       "      <td>0.643520</td>\n",
       "      <td>0.110854</td>\n",
       "      <td>0.502191</td>\n",
       "      <td>...</td>\n",
       "      <td>0.199710</td>\n",
       "      <td>0.434158</td>\n",
       "      <td>0.924264</td>\n",
       "      <td>-0.056052</td>\n",
       "      <td>0.510417</td>\n",
       "      <td>0.891289</td>\n",
       "      <td>0.108223</td>\n",
       "      <td>0.508408</td>\n",
       "      <td>0.923520</td>\n",
       "      <td>-0.104632</td>\n",
       "    </tr>\n",
       "    <tr>\n",
       "      <th>3</th>\n",
       "      <td>0.481069</td>\n",
       "      <td>0.459294</td>\n",
       "      <td>0.094036</td>\n",
       "      <td>0.453831</td>\n",
       "      <td>0.464743</td>\n",
       "      <td>-0.094002</td>\n",
       "      <td>0.507123</td>\n",
       "      <td>0.624699</td>\n",
       "      <td>0.063444</td>\n",
       "      <td>0.502863</td>\n",
       "      <td>...</td>\n",
       "      <td>0.097747</td>\n",
       "      <td>0.433947</td>\n",
       "      <td>0.912512</td>\n",
       "      <td>-0.192276</td>\n",
       "      <td>0.513979</td>\n",
       "      <td>0.890291</td>\n",
       "      <td>0.031048</td>\n",
       "      <td>0.510414</td>\n",
       "      <td>0.920668</td>\n",
       "      <td>-0.274791</td>\n",
       "    </tr>\n",
       "    <tr>\n",
       "      <th>4</th>\n",
       "      <td>0.455134</td>\n",
       "      <td>0.450424</td>\n",
       "      <td>0.095158</td>\n",
       "      <td>0.461582</td>\n",
       "      <td>0.465288</td>\n",
       "      <td>-0.095123</td>\n",
       "      <td>0.505464</td>\n",
       "      <td>0.615279</td>\n",
       "      <td>0.065418</td>\n",
       "      <td>0.511254</td>\n",
       "      <td>...</td>\n",
       "      <td>0.070530</td>\n",
       "      <td>0.439040</td>\n",
       "      <td>0.909334</td>\n",
       "      <td>-0.113504</td>\n",
       "      <td>0.515233</td>\n",
       "      <td>0.872519</td>\n",
       "      <td>0.033617</td>\n",
       "      <td>0.515213</td>\n",
       "      <td>0.917149</td>\n",
       "      <td>-0.153827</td>\n",
       "    </tr>\n",
       "    <tr>\n",
       "      <th>...</th>\n",
       "      <td>...</td>\n",
       "      <td>...</td>\n",
       "      <td>...</td>\n",
       "      <td>...</td>\n",
       "      <td>...</td>\n",
       "      <td>...</td>\n",
       "      <td>...</td>\n",
       "      <td>...</td>\n",
       "      <td>...</td>\n",
       "      <td>...</td>\n",
       "      <td>...</td>\n",
       "      <td>...</td>\n",
       "      <td>...</td>\n",
       "      <td>...</td>\n",
       "      <td>...</td>\n",
       "      <td>...</td>\n",
       "      <td>...</td>\n",
       "      <td>...</td>\n",
       "      <td>...</td>\n",
       "      <td>...</td>\n",
       "      <td>...</td>\n",
       "    </tr>\n",
       "    <tr>\n",
       "      <th>1331</th>\n",
       "      <td>0.620565</td>\n",
       "      <td>0.441372</td>\n",
       "      <td>0.026862</td>\n",
       "      <td>0.557446</td>\n",
       "      <td>0.332072</td>\n",
       "      <td>-0.027091</td>\n",
       "      <td>0.460498</td>\n",
       "      <td>0.630542</td>\n",
       "      <td>-0.078618</td>\n",
       "      <td>0.527523</td>\n",
       "      <td>...</td>\n",
       "      <td>0.458809</td>\n",
       "      <td>0.368942</td>\n",
       "      <td>0.653099</td>\n",
       "      <td>-0.358963</td>\n",
       "      <td>0.268868</td>\n",
       "      <td>0.523369</td>\n",
       "      <td>0.317596</td>\n",
       "      <td>0.293836</td>\n",
       "      <td>0.750702</td>\n",
       "      <td>-0.538167</td>\n",
       "    </tr>\n",
       "    <tr>\n",
       "      <th>1332</th>\n",
       "      <td>0.605141</td>\n",
       "      <td>0.490309</td>\n",
       "      <td>-0.042360</td>\n",
       "      <td>0.557683</td>\n",
       "      <td>0.372101</td>\n",
       "      <td>0.042256</td>\n",
       "      <td>0.496481</td>\n",
       "      <td>0.417493</td>\n",
       "      <td>-0.401975</td>\n",
       "      <td>0.493805</td>\n",
       "      <td>...</td>\n",
       "      <td>-0.270680</td>\n",
       "      <td>0.275038</td>\n",
       "      <td>0.621983</td>\n",
       "      <td>-0.086367</td>\n",
       "      <td>0.277419</td>\n",
       "      <td>0.424645</td>\n",
       "      <td>-0.445442</td>\n",
       "      <td>0.221538</td>\n",
       "      <td>0.577980</td>\n",
       "      <td>-0.270467</td>\n",
       "    </tr>\n",
       "    <tr>\n",
       "      <th>1333</th>\n",
       "      <td>0.543936</td>\n",
       "      <td>0.587769</td>\n",
       "      <td>-0.067049</td>\n",
       "      <td>0.502650</td>\n",
       "      <td>0.459043</td>\n",
       "      <td>0.066849</td>\n",
       "      <td>0.520526</td>\n",
       "      <td>0.404340</td>\n",
       "      <td>-0.442934</td>\n",
       "      <td>0.318465</td>\n",
       "      <td>...</td>\n",
       "      <td>-0.427923</td>\n",
       "      <td>0.198408</td>\n",
       "      <td>0.657568</td>\n",
       "      <td>0.163175</td>\n",
       "      <td>0.271908</td>\n",
       "      <td>0.175829</td>\n",
       "      <td>-0.573997</td>\n",
       "      <td>0.125932</td>\n",
       "      <td>0.748765</td>\n",
       "      <td>0.030923</td>\n",
       "    </tr>\n",
       "    <tr>\n",
       "      <th>1334</th>\n",
       "      <td>0.542453</td>\n",
       "      <td>0.711479</td>\n",
       "      <td>-0.092000</td>\n",
       "      <td>0.496374</td>\n",
       "      <td>0.580509</td>\n",
       "      <td>0.092055</td>\n",
       "      <td>0.507593</td>\n",
       "      <td>0.484758</td>\n",
       "      <td>-0.424973</td>\n",
       "      <td>0.313446</td>\n",
       "      <td>...</td>\n",
       "      <td>-0.438564</td>\n",
       "      <td>0.209162</td>\n",
       "      <td>0.827162</td>\n",
       "      <td>0.042650</td>\n",
       "      <td>0.222844</td>\n",
       "      <td>0.415766</td>\n",
       "      <td>-0.557012</td>\n",
       "      <td>0.105067</td>\n",
       "      <td>0.770670</td>\n",
       "      <td>-0.023480</td>\n",
       "    </tr>\n",
       "    <tr>\n",
       "      <th>1335</th>\n",
       "      <td>0.542179</td>\n",
       "      <td>0.762660</td>\n",
       "      <td>-0.066071</td>\n",
       "      <td>0.499712</td>\n",
       "      <td>0.630706</td>\n",
       "      <td>0.066172</td>\n",
       "      <td>0.423898</td>\n",
       "      <td>0.648416</td>\n",
       "      <td>-0.300489</td>\n",
       "      <td>0.342509</td>\n",
       "      <td>...</td>\n",
       "      <td>-0.252391</td>\n",
       "      <td>0.227308</td>\n",
       "      <td>0.811854</td>\n",
       "      <td>-0.108396</td>\n",
       "      <td>0.160821</td>\n",
       "      <td>0.664597</td>\n",
       "      <td>-0.411971</td>\n",
       "      <td>0.161330</td>\n",
       "      <td>0.758778</td>\n",
       "      <td>-0.265889</td>\n",
       "    </tr>\n",
       "  </tbody>\n",
       "</table>\n",
       "<p>1304 rows × 30 columns</p>\n",
       "</div>"
      ],
      "text/plain": [
       "          x_23      y_23      z_23      x_24      y_24      z_24      x_25  \\\n",
       "0     0.451331  0.465100  0.110175  0.457470  0.463318 -0.110182  0.491802   \n",
       "1     0.445983  0.456778  0.122618  0.457885  0.462124 -0.122751  0.492286   \n",
       "2     0.447754  0.457296  0.109594  0.461995  0.468286 -0.109642  0.491203   \n",
       "3     0.481069  0.459294  0.094036  0.453831  0.464743 -0.094002  0.507123   \n",
       "4     0.455134  0.450424  0.095158  0.461582  0.465288 -0.095123  0.505464   \n",
       "...        ...       ...       ...       ...       ...       ...       ...   \n",
       "1331  0.620565  0.441372  0.026862  0.557446  0.332072 -0.027091  0.460498   \n",
       "1332  0.605141  0.490309 -0.042360  0.557683  0.372101  0.042256  0.496481   \n",
       "1333  0.543936  0.587769 -0.067049  0.502650  0.459043  0.066849  0.520526   \n",
       "1334  0.542453  0.711479 -0.092000  0.496374  0.580509  0.092055  0.507593   \n",
       "1335  0.542179  0.762660 -0.066071  0.499712  0.630706  0.066172  0.423898   \n",
       "\n",
       "          y_25      z_25      x_26  ...      z_29      x_30      y_30  \\\n",
       "0     0.647482  0.058664  0.494906  ...  0.055151  0.426306  0.924302   \n",
       "1     0.643434  0.156030  0.499484  ...  0.254441  0.427536  0.924301   \n",
       "2     0.643520  0.110854  0.502191  ...  0.199710  0.434158  0.924264   \n",
       "3     0.624699  0.063444  0.502863  ...  0.097747  0.433947  0.912512   \n",
       "4     0.615279  0.065418  0.511254  ...  0.070530  0.439040  0.909334   \n",
       "...        ...       ...       ...  ...       ...       ...       ...   \n",
       "1331  0.630542 -0.078618  0.527523  ...  0.458809  0.368942  0.653099   \n",
       "1332  0.417493 -0.401975  0.493805  ... -0.270680  0.275038  0.621983   \n",
       "1333  0.404340 -0.442934  0.318465  ... -0.427923  0.198408  0.657568   \n",
       "1334  0.484758 -0.424973  0.313446  ... -0.438564  0.209162  0.827162   \n",
       "1335  0.648416 -0.300489  0.342509  ... -0.252391  0.227308  0.811854   \n",
       "\n",
       "          z_30      x_31      y_31      z_31      x_32      y_32      z_32  \n",
       "0    -0.221915  0.517143  0.894308  0.004046  0.501132  0.925217 -0.295127  \n",
       "1    -0.010263  0.512552  0.891011  0.218607  0.503602  0.925590 -0.075649  \n",
       "2    -0.056052  0.510417  0.891289  0.108223  0.508408  0.923520 -0.104632  \n",
       "3    -0.192276  0.513979  0.890291  0.031048  0.510414  0.920668 -0.274791  \n",
       "4    -0.113504  0.515233  0.872519  0.033617  0.515213  0.917149 -0.153827  \n",
       "...        ...       ...       ...       ...       ...       ...       ...  \n",
       "1331 -0.358963  0.268868  0.523369  0.317596  0.293836  0.750702 -0.538167  \n",
       "1332 -0.086367  0.277419  0.424645 -0.445442  0.221538  0.577980 -0.270467  \n",
       "1333  0.163175  0.271908  0.175829 -0.573997  0.125932  0.748765  0.030923  \n",
       "1334  0.042650  0.222844  0.415766 -0.557012  0.105067  0.770670 -0.023480  \n",
       "1335 -0.108396  0.160821  0.664597 -0.411971  0.161330  0.758778 -0.265889  \n",
       "\n",
       "[1304 rows x 30 columns]"
      ]
     },
     "execution_count": 11,
     "metadata": {},
     "output_type": "execute_result"
    }
   ],
   "source": [
    "keypoints_data\n"
   ]
  },
  {
   "cell_type": "code",
   "execution_count": 12,
   "metadata": {
    "colab": {
     "base_uri": "https://localhost:8080/",
     "height": 424
    },
    "id": "BddlY2KLgb63",
    "outputId": "df9aa867-e751-4b4c-a527-ece5be9098f4"
   },
   "outputs": [
    {
     "data": {
      "text/html": [
       "<div>\n",
       "<style scoped>\n",
       "    .dataframe tbody tr th:only-of-type {\n",
       "        vertical-align: middle;\n",
       "    }\n",
       "\n",
       "    .dataframe tbody tr th {\n",
       "        vertical-align: top;\n",
       "    }\n",
       "\n",
       "    .dataframe thead th {\n",
       "        text-align: right;\n",
       "    }\n",
       "</style>\n",
       "<table border=\"1\" class=\"dataframe\">\n",
       "  <thead>\n",
       "    <tr style=\"text-align: right;\">\n",
       "      <th></th>\n",
       "      <th>x_23</th>\n",
       "      <th>y_23</th>\n",
       "      <th>z_23</th>\n",
       "      <th>x_24</th>\n",
       "      <th>y_24</th>\n",
       "      <th>z_24</th>\n",
       "      <th>x_25</th>\n",
       "      <th>y_25</th>\n",
       "      <th>z_25</th>\n",
       "      <th>x_26</th>\n",
       "      <th>...</th>\n",
       "      <th>z_29</th>\n",
       "      <th>x_30</th>\n",
       "      <th>y_30</th>\n",
       "      <th>z_30</th>\n",
       "      <th>x_31</th>\n",
       "      <th>y_31</th>\n",
       "      <th>z_31</th>\n",
       "      <th>x_32</th>\n",
       "      <th>y_32</th>\n",
       "      <th>z_32</th>\n",
       "    </tr>\n",
       "  </thead>\n",
       "  <tbody>\n",
       "    <tr>\n",
       "      <th>0</th>\n",
       "      <td>0.621221</td>\n",
       "      <td>0.514683</td>\n",
       "      <td>-0.087872</td>\n",
       "      <td>0.645220</td>\n",
       "      <td>0.509083</td>\n",
       "      <td>0.088017</td>\n",
       "      <td>0.564354</td>\n",
       "      <td>0.631956</td>\n",
       "      <td>-0.014500</td>\n",
       "      <td>0.619527</td>\n",
       "      <td>...</td>\n",
       "      <td>0.063803</td>\n",
       "      <td>0.649760</td>\n",
       "      <td>0.750286</td>\n",
       "      <td>0.409800</td>\n",
       "      <td>0.505359</td>\n",
       "      <td>0.784656</td>\n",
       "      <td>0.031496</td>\n",
       "      <td>0.613557</td>\n",
       "      <td>0.747111</td>\n",
       "      <td>0.402297</td>\n",
       "    </tr>\n",
       "    <tr>\n",
       "      <th>1</th>\n",
       "      <td>0.622005</td>\n",
       "      <td>0.514650</td>\n",
       "      <td>-0.086967</td>\n",
       "      <td>0.645218</td>\n",
       "      <td>0.509725</td>\n",
       "      <td>0.087127</td>\n",
       "      <td>0.564212</td>\n",
       "      <td>0.632446</td>\n",
       "      <td>-0.013601</td>\n",
       "      <td>0.619494</td>\n",
       "      <td>...</td>\n",
       "      <td>0.070955</td>\n",
       "      <td>0.646913</td>\n",
       "      <td>0.760282</td>\n",
       "      <td>0.376657</td>\n",
       "      <td>0.505366</td>\n",
       "      <td>0.783913</td>\n",
       "      <td>0.036235</td>\n",
       "      <td>0.603344</td>\n",
       "      <td>0.747112</td>\n",
       "      <td>0.356603</td>\n",
       "    </tr>\n",
       "    <tr>\n",
       "      <th>2</th>\n",
       "      <td>0.622797</td>\n",
       "      <td>0.514658</td>\n",
       "      <td>-0.086068</td>\n",
       "      <td>0.645223</td>\n",
       "      <td>0.509828</td>\n",
       "      <td>0.086224</td>\n",
       "      <td>0.564213</td>\n",
       "      <td>0.632748</td>\n",
       "      <td>-0.011316</td>\n",
       "      <td>0.619496</td>\n",
       "      <td>...</td>\n",
       "      <td>0.076177</td>\n",
       "      <td>0.645662</td>\n",
       "      <td>0.761630</td>\n",
       "      <td>0.387995</td>\n",
       "      <td>0.505391</td>\n",
       "      <td>0.783770</td>\n",
       "      <td>0.041847</td>\n",
       "      <td>0.600173</td>\n",
       "      <td>0.746989</td>\n",
       "      <td>0.370394</td>\n",
       "    </tr>\n",
       "    <tr>\n",
       "      <th>3</th>\n",
       "      <td>0.623563</td>\n",
       "      <td>0.515553</td>\n",
       "      <td>-0.084986</td>\n",
       "      <td>0.645362</td>\n",
       "      <td>0.510004</td>\n",
       "      <td>0.085127</td>\n",
       "      <td>0.564212</td>\n",
       "      <td>0.633058</td>\n",
       "      <td>-0.007344</td>\n",
       "      <td>0.619751</td>\n",
       "      <td>...</td>\n",
       "      <td>0.085580</td>\n",
       "      <td>0.645392</td>\n",
       "      <td>0.763111</td>\n",
       "      <td>0.388915</td>\n",
       "      <td>0.505392</td>\n",
       "      <td>0.783724</td>\n",
       "      <td>0.052345</td>\n",
       "      <td>0.600245</td>\n",
       "      <td>0.746998</td>\n",
       "      <td>0.369212</td>\n",
       "    </tr>\n",
       "    <tr>\n",
       "      <th>4</th>\n",
       "      <td>0.623995</td>\n",
       "      <td>0.516387</td>\n",
       "      <td>-0.083516</td>\n",
       "      <td>0.645541</td>\n",
       "      <td>0.510556</td>\n",
       "      <td>0.083633</td>\n",
       "      <td>0.564246</td>\n",
       "      <td>0.633138</td>\n",
       "      <td>0.000536</td>\n",
       "      <td>0.620181</td>\n",
       "      <td>...</td>\n",
       "      <td>0.099217</td>\n",
       "      <td>0.645477</td>\n",
       "      <td>0.762047</td>\n",
       "      <td>0.389470</td>\n",
       "      <td>0.505356</td>\n",
       "      <td>0.783730</td>\n",
       "      <td>0.067432</td>\n",
       "      <td>0.601664</td>\n",
       "      <td>0.746804</td>\n",
       "      <td>0.375651</td>\n",
       "    </tr>\n",
       "    <tr>\n",
       "      <th>...</th>\n",
       "      <td>...</td>\n",
       "      <td>...</td>\n",
       "      <td>...</td>\n",
       "      <td>...</td>\n",
       "      <td>...</td>\n",
       "      <td>...</td>\n",
       "      <td>...</td>\n",
       "      <td>...</td>\n",
       "      <td>...</td>\n",
       "      <td>...</td>\n",
       "      <td>...</td>\n",
       "      <td>...</td>\n",
       "      <td>...</td>\n",
       "      <td>...</td>\n",
       "      <td>...</td>\n",
       "      <td>...</td>\n",
       "      <td>...</td>\n",
       "      <td>...</td>\n",
       "      <td>...</td>\n",
       "      <td>...</td>\n",
       "      <td>...</td>\n",
       "    </tr>\n",
       "    <tr>\n",
       "      <th>5855</th>\n",
       "      <td>0.525647</td>\n",
       "      <td>0.782754</td>\n",
       "      <td>0.037239</td>\n",
       "      <td>0.567170</td>\n",
       "      <td>0.739510</td>\n",
       "      <td>-0.037193</td>\n",
       "      <td>0.518943</td>\n",
       "      <td>0.667851</td>\n",
       "      <td>0.233619</td>\n",
       "      <td>0.647724</td>\n",
       "      <td>...</td>\n",
       "      <td>0.425012</td>\n",
       "      <td>0.753267</td>\n",
       "      <td>0.871335</td>\n",
       "      <td>0.017566</td>\n",
       "      <td>0.567185</td>\n",
       "      <td>0.614786</td>\n",
       "      <td>0.452845</td>\n",
       "      <td>0.796982</td>\n",
       "      <td>0.842343</td>\n",
       "      <td>-0.012050</td>\n",
       "    </tr>\n",
       "    <tr>\n",
       "      <th>5856</th>\n",
       "      <td>0.525675</td>\n",
       "      <td>0.782583</td>\n",
       "      <td>0.035643</td>\n",
       "      <td>0.567047</td>\n",
       "      <td>0.739496</td>\n",
       "      <td>-0.035587</td>\n",
       "      <td>0.519315</td>\n",
       "      <td>0.668431</td>\n",
       "      <td>0.250618</td>\n",
       "      <td>0.647695</td>\n",
       "      <td>...</td>\n",
       "      <td>0.463999</td>\n",
       "      <td>0.753277</td>\n",
       "      <td>0.871711</td>\n",
       "      <td>0.022418</td>\n",
       "      <td>0.568298</td>\n",
       "      <td>0.619267</td>\n",
       "      <td>0.496748</td>\n",
       "      <td>0.796960</td>\n",
       "      <td>0.843067</td>\n",
       "      <td>-0.006785</td>\n",
       "    </tr>\n",
       "    <tr>\n",
       "      <th>5857</th>\n",
       "      <td>0.525685</td>\n",
       "      <td>0.782932</td>\n",
       "      <td>0.033861</td>\n",
       "      <td>0.567353</td>\n",
       "      <td>0.739400</td>\n",
       "      <td>-0.033816</td>\n",
       "      <td>0.517276</td>\n",
       "      <td>0.668379</td>\n",
       "      <td>0.268895</td>\n",
       "      <td>0.647669</td>\n",
       "      <td>...</td>\n",
       "      <td>0.495482</td>\n",
       "      <td>0.753137</td>\n",
       "      <td>0.871678</td>\n",
       "      <td>0.032449</td>\n",
       "      <td>0.566201</td>\n",
       "      <td>0.622142</td>\n",
       "      <td>0.530018</td>\n",
       "      <td>0.796997</td>\n",
       "      <td>0.842903</td>\n",
       "      <td>0.003965</td>\n",
       "    </tr>\n",
       "    <tr>\n",
       "      <th>5858</th>\n",
       "      <td>0.525678</td>\n",
       "      <td>0.783057</td>\n",
       "      <td>0.033519</td>\n",
       "      <td>0.567466</td>\n",
       "      <td>0.739421</td>\n",
       "      <td>-0.033488</td>\n",
       "      <td>0.514373</td>\n",
       "      <td>0.665719</td>\n",
       "      <td>0.276436</td>\n",
       "      <td>0.647517</td>\n",
       "      <td>...</td>\n",
       "      <td>0.508199</td>\n",
       "      <td>0.753136</td>\n",
       "      <td>0.871820</td>\n",
       "      <td>0.037705</td>\n",
       "      <td>0.560062</td>\n",
       "      <td>0.615561</td>\n",
       "      <td>0.542106</td>\n",
       "      <td>0.796848</td>\n",
       "      <td>0.843593</td>\n",
       "      <td>0.007872</td>\n",
       "    </tr>\n",
       "    <tr>\n",
       "      <th>5859</th>\n",
       "      <td>0.525671</td>\n",
       "      <td>0.783293</td>\n",
       "      <td>0.033269</td>\n",
       "      <td>0.567532</td>\n",
       "      <td>0.739443</td>\n",
       "      <td>-0.033248</td>\n",
       "      <td>0.514470</td>\n",
       "      <td>0.665448</td>\n",
       "      <td>0.275229</td>\n",
       "      <td>0.647409</td>\n",
       "      <td>...</td>\n",
       "      <td>0.504451</td>\n",
       "      <td>0.753139</td>\n",
       "      <td>0.871831</td>\n",
       "      <td>0.036620</td>\n",
       "      <td>0.560673</td>\n",
       "      <td>0.616885</td>\n",
       "      <td>0.538149</td>\n",
       "      <td>0.796811</td>\n",
       "      <td>0.843731</td>\n",
       "      <td>0.006804</td>\n",
       "    </tr>\n",
       "  </tbody>\n",
       "</table>\n",
       "<p>5801 rows × 30 columns</p>\n",
       "</div>"
      ],
      "text/plain": [
       "          x_23      y_23      z_23      x_24      y_24      z_24      x_25  \\\n",
       "0     0.621221  0.514683 -0.087872  0.645220  0.509083  0.088017  0.564354   \n",
       "1     0.622005  0.514650 -0.086967  0.645218  0.509725  0.087127  0.564212   \n",
       "2     0.622797  0.514658 -0.086068  0.645223  0.509828  0.086224  0.564213   \n",
       "3     0.623563  0.515553 -0.084986  0.645362  0.510004  0.085127  0.564212   \n",
       "4     0.623995  0.516387 -0.083516  0.645541  0.510556  0.083633  0.564246   \n",
       "...        ...       ...       ...       ...       ...       ...       ...   \n",
       "5855  0.525647  0.782754  0.037239  0.567170  0.739510 -0.037193  0.518943   \n",
       "5856  0.525675  0.782583  0.035643  0.567047  0.739496 -0.035587  0.519315   \n",
       "5857  0.525685  0.782932  0.033861  0.567353  0.739400 -0.033816  0.517276   \n",
       "5858  0.525678  0.783057  0.033519  0.567466  0.739421 -0.033488  0.514373   \n",
       "5859  0.525671  0.783293  0.033269  0.567532  0.739443 -0.033248  0.514470   \n",
       "\n",
       "          y_25      z_25      x_26  ...      z_29      x_30      y_30  \\\n",
       "0     0.631956 -0.014500  0.619527  ...  0.063803  0.649760  0.750286   \n",
       "1     0.632446 -0.013601  0.619494  ...  0.070955  0.646913  0.760282   \n",
       "2     0.632748 -0.011316  0.619496  ...  0.076177  0.645662  0.761630   \n",
       "3     0.633058 -0.007344  0.619751  ...  0.085580  0.645392  0.763111   \n",
       "4     0.633138  0.000536  0.620181  ...  0.099217  0.645477  0.762047   \n",
       "...        ...       ...       ...  ...       ...       ...       ...   \n",
       "5855  0.667851  0.233619  0.647724  ...  0.425012  0.753267  0.871335   \n",
       "5856  0.668431  0.250618  0.647695  ...  0.463999  0.753277  0.871711   \n",
       "5857  0.668379  0.268895  0.647669  ...  0.495482  0.753137  0.871678   \n",
       "5858  0.665719  0.276436  0.647517  ...  0.508199  0.753136  0.871820   \n",
       "5859  0.665448  0.275229  0.647409  ...  0.504451  0.753139  0.871831   \n",
       "\n",
       "          z_30      x_31      y_31      z_31      x_32      y_32      z_32  \n",
       "0     0.409800  0.505359  0.784656  0.031496  0.613557  0.747111  0.402297  \n",
       "1     0.376657  0.505366  0.783913  0.036235  0.603344  0.747112  0.356603  \n",
       "2     0.387995  0.505391  0.783770  0.041847  0.600173  0.746989  0.370394  \n",
       "3     0.388915  0.505392  0.783724  0.052345  0.600245  0.746998  0.369212  \n",
       "4     0.389470  0.505356  0.783730  0.067432  0.601664  0.746804  0.375651  \n",
       "...        ...       ...       ...       ...       ...       ...       ...  \n",
       "5855  0.017566  0.567185  0.614786  0.452845  0.796982  0.842343 -0.012050  \n",
       "5856  0.022418  0.568298  0.619267  0.496748  0.796960  0.843067 -0.006785  \n",
       "5857  0.032449  0.566201  0.622142  0.530018  0.796997  0.842903  0.003965  \n",
       "5858  0.037705  0.560062  0.615561  0.542106  0.796848  0.843593  0.007872  \n",
       "5859  0.036620  0.560673  0.616885  0.538149  0.796811  0.843731  0.006804  \n",
       "\n",
       "[5801 rows x 30 columns]"
      ]
     },
     "execution_count": 12,
     "metadata": {},
     "output_type": "execute_result"
    }
   ],
   "source": [
    "keypoints_dataO"
   ]
  },
  {
   "cell_type": "code",
   "execution_count": 13,
   "metadata": {
    "id": "8js9II6mgghk"
   },
   "outputs": [],
   "source": [
    "scaler = MinMaxScaler()\n",
    "keypoints_normalized = scaler.fit_transform(keypoints_data)\n",
    "scaler = MinMaxScaler()\n",
    "keypoints_normalizedO= scaler.fit_transform(keypoints_dataO)"
   ]
  },
  {
   "cell_type": "code",
   "execution_count": 14,
   "metadata": {
    "id": "Z1fJ-d7Pg0NV"
   },
   "outputs": [],
   "source": [
    "# Function to create sequences menggunakan data hasil pertandingan asli(bukan reka ulang)\n",
    "def create_sequences(keypoints_normalized, sequence_length):\n",
    "    X, y = [], []\n",
    "    for i in range(len(keypoints_normalized) - sequence_length):\n",
    "        seq = keypoints_normalized[i:i + sequence_length]\n",
    "        target = keypoints_normalized[i + sequence_length]\n",
    "        X.append(seq)\n",
    "        y.append(target)\n",
    "    return np.array(X), np.array(y)"
   ]
  },
  {
   "cell_type": "code",
   "execution_count": 15,
   "metadata": {
    "id": "NkBdIF2Ag1V8"
   },
   "outputs": [],
   "source": [
    "# Create sequences\n",
    "sequence_length = 10  # Use 10 frames to predict the next frame\n",
    "X, y = create_sequences(keypoints_normalized, sequence_length)"
   ]
  },
  {
   "cell_type": "code",
   "execution_count": 16,
   "metadata": {
    "id": "qQfh9h3Ag3R1"
   },
   "outputs": [],
   "source": [
    "# Split data into training and testing sets\n",
    "train_size = int(len(X) * 0.8)\n",
    "X_train, X_test = X[:train_size], X[train_size:]\n",
    "y_train, y_test = y[:train_size], y[train_size:]"
   ]
  },
  {
   "cell_type": "markdown",
   "metadata": {
    "id": "x3KynFdohRge"
   },
   "source": [
    "# create model untuk evaluasi model terbaik"
   ]
  },
  {
   "cell_type": "code",
   "execution_count": null,
   "metadata": {
    "colab": {
     "base_uri": "https://localhost:8080/"
    },
    "id": "Vv3X5PGloio_",
    "outputId": "8d48608f-0246-4bf2-9015-43b032e5bee2"
   },
   "outputs": [],
   "source": []
  },
  {
   "cell_type": "code",
   "execution_count": 17,
   "metadata": {
    "id": "FMZM8XrThXic"
   },
   "outputs": [],
   "source": [
    "import pandas as pd\n",
    "import numpy as np\n",
    "from tensorflow.keras.models import Sequential\n",
    "from tensorflow.keras.layers import LSTM, Dropout, Dense, Input\n",
    "from tensorflow.keras.optimizers import Adam, RMSprop, Nadam\n",
    "from tensorflow.keras.losses import MeanSquaredError, MeanAbsoluteError, Huber\n",
    "from sklearn.model_selection import train_test_split\n",
    "import tensorflow as tf\n",
    "from tqdm import tqdm\n",
    "import gc"
   ]
  },
  {
   "cell_type": "code",
   "execution_count": 18,
   "metadata": {},
   "outputs": [],
   "source": [
    "best_model = None\n",
    "best_mse = float('inf')  "
   ]
  },
  {
   "cell_type": "code",
   "execution_count": 19,
   "metadata": {
    "colab": {
     "base_uri": "https://localhost:8080/"
    },
    "id": "qz__PbfNhgyu",
    "outputId": "09f58b01-c6c1-4d89-8a4b-0d57974a91ae"
   },
   "outputs": [
    {
     "name": "stderr",
     "output_type": "stream",
     "text": [
      "Training Progress:   0%|          | 0/11 [00:00<?, ?it/s]"
     ]
    },
    {
     "name": "stdout",
     "output_type": "stream",
     "text": [
      "\n",
      "Percobaan 1: LSTM1=linear, LSTM2=linear, Loss=MSE, Optimizer=Adam()\n"
     ]
    },
    {
     "name": "stderr",
     "output_type": "stream",
     "text": [
      "C:\\Users\\user\\anaconda3\\Lib\\site-packages\\tensorflow\\python\\data\\ops\\structured_function.py:258: UserWarning: Even though the `tf.config.experimental_run_functions_eagerly` option is set, this option does not apply to tf.data functions. To force eager execution of tf.data functions, please use `tf.data.experimental.enable_debug_mode()`.\n",
      "  warnings.warn(\n",
      "C:\\Users\\user\\anaconda3\\Lib\\site-packages\\keras\\src\\engine\\training.py:3079: UserWarning: You are saving your model as an HDF5 file via `model.save()`. This file format is considered legacy. We recommend using instead the native Keras format, e.g. `model.save('my_model.keras')`.\n",
      "  saving_api.save_model(\n",
      "Training Progress:   9%|▉         | 1/11 [02:56<29:29, 176.90s/it]"
     ]
    },
    {
     "name": "stdout",
     "output_type": "stream",
     "text": [
      "\n",
      "Percobaan 2: LSTM1=relu, LSTM2=relu, Loss=MSE, Optimizer=Adam()\n"
     ]
    },
    {
     "name": "stderr",
     "output_type": "stream",
     "text": [
      "Training Progress:  18%|█▊        | 2/11 [05:53<26:31, 176.83s/it]"
     ]
    },
    {
     "name": "stdout",
     "output_type": "stream",
     "text": [
      "\n",
      "Percobaan 3: LSTM1=tanh, LSTM2=tanh, Loss=MSE, Optimizer=RMSprop()\n"
     ]
    },
    {
     "name": "stderr",
     "output_type": "stream",
     "text": [
      "Training Progress:  27%|██▋       | 3/11 [09:38<26:29, 198.65s/it]"
     ]
    },
    {
     "name": "stdout",
     "output_type": "stream",
     "text": [
      "\n",
      "Percobaan 4: LSTM1=linear, LSTM2=tanh, Loss=MSE, Optimizer=Nadam()\n"
     ]
    },
    {
     "name": "stderr",
     "output_type": "stream",
     "text": [
      "Training Progress:  36%|███▋      | 4/11 [14:39<27:54, 239.28s/it]"
     ]
    },
    {
     "name": "stdout",
     "output_type": "stream",
     "text": [
      "\n",
      "Percobaan 5: LSTM1=relu, LSTM2=relu, Loss=MAE, Optimizer=Adam()\n"
     ]
    },
    {
     "name": "stderr",
     "output_type": "stream",
     "text": [
      "Training Progress:  45%|████▌     | 5/11 [17:35<21:37, 216.26s/it]"
     ]
    },
    {
     "name": "stdout",
     "output_type": "stream",
     "text": [
      "\n",
      "Percobaan 6: LSTM1=tanh, LSTM2=tanh, Loss=MAE, Optimizer=RMSprop()\n"
     ]
    },
    {
     "name": "stderr",
     "output_type": "stream",
     "text": [
      "Training Progress:  55%|█████▍    | 6/11 [20:05<16:08, 193.77s/it]"
     ]
    },
    {
     "name": "stdout",
     "output_type": "stream",
     "text": [
      "\n",
      "Percobaan 7: LSTM1=linear, LSTM2=tanh, Loss=MAE, Optimizer=Nadam()\n"
     ]
    },
    {
     "name": "stderr",
     "output_type": "stream",
     "text": [
      "Training Progress:  64%|██████▎   | 7/11 [23:24<13:02, 195.57s/it]"
     ]
    },
    {
     "name": "stdout",
     "output_type": "stream",
     "text": [
      "\n",
      "Percobaan 8: LSTM1=relu, LSTM2=relu, Loss=Huber_loss, Optimizer=Adam()\n"
     ]
    },
    {
     "name": "stderr",
     "output_type": "stream",
     "text": [
      "Training Progress:  73%|███████▎  | 8/11 [26:41<09:47, 195.93s/it]"
     ]
    },
    {
     "name": "stdout",
     "output_type": "stream",
     "text": [
      "\n",
      "Percobaan 9: LSTM1=tanh, LSTM2=tanh, Loss=Huber_loss, Optimizer=RMSprop()\n"
     ]
    },
    {
     "name": "stderr",
     "output_type": "stream",
     "text": [
      "Training Progress:  82%|████████▏ | 9/11 [29:30<06:14, 187.41s/it]"
     ]
    },
    {
     "name": "stdout",
     "output_type": "stream",
     "text": [
      "\n",
      "Percobaan 10: LSTM1=linear, LSTM2=tanh, Loss=Huber_loss, Optimizer=Nadam()\n"
     ]
    },
    {
     "name": "stderr",
     "output_type": "stream",
     "text": [
      "Training Progress:  91%|█████████ | 10/11 [32:57<03:13, 193.60s/it]"
     ]
    },
    {
     "name": "stdout",
     "output_type": "stream",
     "text": [
      "\n",
      "Percobaan 11: LSTM1=tanh, LSTM2=linear, Loss=MSE, Optimizer=Adam()\n"
     ]
    },
    {
     "name": "stderr",
     "output_type": "stream",
     "text": [
      "Training Progress: 100%|██████████| 11/11 [35:44<00:00, 194.99s/it]\n"
     ]
    }
   ],
   "source": [
    "tf.config.run_functions_eagerly(True)\n",
    "# Definisi loss functions\n",
    "loss_functions = {\n",
    "    'MSE': MeanSquaredError,\n",
    "    'MAE': MeanAbsoluteError,\n",
    "    'Huber_loss': Huber\n",
    "}\n",
    "\n",
    "# Definisi optimizer constructors\n",
    "optimizer_constructors = {\n",
    "    'Adam()': Adam,\n",
    "    'RMSprop()': RMSprop,\n",
    "    'Nadam()': Nadam\n",
    "}\n",
    "# Daftar percobaan sesuai tabel\n",
    "percobaan_list = [\n",
    "    # (LSTM1 activation, LSTM2 activation, loss function, optimizer)\n",
    "    ('linear', 'linear', 'MSE', 'Adam()'),\n",
    "    ('relu', 'relu', 'MSE', 'Adam()'),\n",
    "    ('tanh', 'tanh', 'MSE', 'RMSprop()'),\n",
    "    ('linear', 'tanh', 'MSE', 'Nadam()'),\n",
    "    ('relu', 'relu', 'MAE', 'Adam()'),\n",
    "    ('tanh', 'tanh', 'MAE', 'RMSprop()'),\n",
    "    ('linear', 'tanh', 'MAE', 'Nadam()'),\n",
    "    ('relu', 'relu', 'Huber_loss', 'Adam()'),\n",
    "    ('tanh', 'tanh', 'Huber_loss', 'RMSprop()'),\n",
    "    ('linear', 'tanh', 'Huber_loss', 'Nadam()'),\n",
    "    ('tanh', 'linear', 'MSE', 'Adam()')\n",
    "\n",
    "]\n",
    "\n",
    "# Untuk menyimpan hasil\n",
    "results = []\n",
    "\n",
    "# Pakai tqdm untuk loop percobaan\n",
    "for idx, (lstm1_activation, lstm2_activation, loss_name, optimizer_name) in enumerate(tqdm(percobaan_list, \n",
    "                                                                                           desc=\"Training Progress\"), 1):\n",
    "    print(f\"\\nPercobaan {idx}: LSTM1={lstm1_activation}, LSTM2={lstm2_activation}, Loss={loss_name}, Optimizer={optimizer_name}\")\n",
    "\n",
    "    model = Sequential([\n",
    "        Input(shape=(X_train.shape[1], X_train.shape[2])),\n",
    "\n",
    "        LSTM(32, activation=lstm1_activation, return_sequences=False),\n",
    "        Dropout(0.1),\n",
    "\n",
    "        Dense(16, activation='relu'),\n",
    "        Dense(y_train.shape[1])  \n",
    "    ])\n",
    "\n",
    "\n",
    "    loss_fn = loss_functions[loss_name]()\n",
    "    optimizer = optimizer_constructors[optimizer_name]()\n",
    "    model.compile(optimizer=optimizer, loss=loss_fn, metrics=['mae', 'mse'])\n",
    "\n",
    "    # Training\n",
    "    history = model.fit(X_train, y_train, epochs=100, batch_size=32, verbose=0, validation_split=0.2)\n",
    "\n",
    "    # Hasil training\n",
    "    train_mae = history.history['mae'][-1]\n",
    "    val_mae = history.history['val_mae'][-1]\n",
    "    train_loss = history.history['loss'][-1]\n",
    "    val_loss = history.history['val_loss'][-1]\n",
    "    train_rmse = np.sqrt(history.history['mse'][-1])\n",
    "    val_rmse = np.sqrt(history.history['val_mse'][-1])\n",
    "\n",
    "    results.append({\n",
    "        'Percobaan': idx,\n",
    "        'LSTM1 Activation': lstm1_activation,\n",
    "        'LSTM2 Activation': lstm2_activation,\n",
    "        'Loss Function': loss_name,\n",
    "        'Optimizer': optimizer_name,\n",
    "        'Train MAE': train_mae,\n",
    "        'Val MAE': val_mae,\n",
    "        'Train RMSE': train_rmse,\n",
    "        'Val RMSE': val_rmse,\n",
    "        'Train Loss': train_loss,\n",
    "        'Val Loss': val_loss\n",
    "    })\n",
    "\n",
    "    # Save best model\n",
    "    if val_rmse < best_mse:\n",
    "        best_mse = val_rmse\n",
    "        model.save('model_terbaik_prediksi2.h5')\n",
    "    else:\n",
    "        K.clear_session()\n",
    "        del model\n",
    "        gc.collect()\n"
   ]
  },
  {
   "cell_type": "code",
   "execution_count": 20,
   "metadata": {},
   "outputs": [
    {
     "name": "stdout",
     "output_type": "stream",
     "text": [
      "\n",
      "=== Hasil Evaluasi Setiap Percobaan ===\n",
      "\n",
      "    Percobaan LSTM1 Activation LSTM2 Activation Loss Function  Optimizer  \\\n",
      "0           1           linear           linear           MSE     Adam()   \n",
      "1           2             relu             relu           MSE     Adam()   \n",
      "2           3             tanh             tanh           MSE  RMSprop()   \n",
      "3           4           linear             tanh           MSE    Nadam()   \n",
      "4           5             relu             relu           MAE     Adam()   \n",
      "5           6             tanh             tanh           MAE  RMSprop()   \n",
      "6           7           linear             tanh           MAE    Nadam()   \n",
      "7           8             relu             relu    Huber_loss     Adam()   \n",
      "8           9             tanh             tanh    Huber_loss  RMSprop()   \n",
      "9          10           linear             tanh    Huber_loss    Nadam()   \n",
      "10         11             tanh           linear           MSE     Adam()   \n",
      "\n",
      "    Train MAE   Val MAE  Train RMSE  Val RMSE  Train Loss  Val Loss  \n",
      "0    0.059995  0.066798    0.082763  0.097507    0.006850  0.009508  \n",
      "1    0.059386  0.069842    0.081458  0.099569    0.006635  0.009914  \n",
      "2    0.062440  0.068564    0.084945  0.098841    0.007216  0.009770  \n",
      "3    0.055103  0.063061    0.077003  0.094476    0.005929  0.008926  \n",
      "4    0.055786  0.067448    0.081577  0.098220    0.055786  0.067448  \n",
      "5    0.056826  0.063908    0.081472  0.096905    0.056826  0.063908  \n",
      "6    0.051733  0.059884    0.076353  0.093423    0.051733  0.059884  \n",
      "7    0.058312  0.071535    0.080550  0.101945    0.003244  0.005196  \n",
      "8    0.065531  0.070172    0.089017  0.100822    0.003962  0.005083  \n",
      "9    0.055453  0.062589    0.078009  0.094223    0.003043  0.004439  \n",
      "10   0.055658  0.064832    0.077848  0.097111    0.006060  0.009431  \n"
     ]
    }
   ],
   "source": [
    "# === Save & Show Results ===\n",
    "results_df = pd.DataFrame(results)\n",
    "results_df.to_csv('hasil_percobaan2.csv', index=False)\n",
    "results_df.to_excel('hasil_percobaan2_lstm.xlsx', index=False)\n",
    "\n",
    "print(\"\\n=== Hasil Evaluasi Setiap Percobaan ===\\n\")\n",
    "print(results_df)\n",
    "\n"
   ]
  },
  {
   "cell_type": "code",
   "execution_count": 21,
   "metadata": {},
   "outputs": [
    {
     "data": {
      "image/png": "[encoded data removed]",
      "text/plain": [
       "<Figure size 1600x600 with 2 Axes>"
      ]
     },
     "metadata": {},
     "output_type": "display_data"
    },
    {
     "name": "stdout",
     "output_type": "stream",
     "text": [
      "\n",
      "=== Percobaan Terbaik ===\n",
      "Percobaan ke-7\n",
      "Train MAE: 0.0517\n",
      "Val MAE: 0.0599\n",
      "Train RMSE: 0.0764\n",
      "Val RMSE: 0.0934\n",
      "Train Loss: 0.0517\n",
      "Val Loss: 0.0599\n",
      "Model: MAE + Nadam()\n"
     ]
    }
   ],
   "source": [
    "# === Plot RMSE dan Loss ===\n",
    "plt.figure(figsize=(16, 6))\n",
    "\n",
    "# RMSE\n",
    "plt.subplot(1, 2, 1)\n",
    "plt.plot(results_df['Percobaan'], results_df['Train RMSE'], marker='o', label='Train RMSE')\n",
    "plt.plot(results_df['Percobaan'], results_df['Val RMSE'], marker='o', label='Validation RMSE')\n",
    "plt.title('RMSE Train vs Validation')\n",
    "plt.xlabel('Percobaan ke-')\n",
    "plt.ylabel('RMSE')\n",
    "plt.legend()\n",
    "plt.grid(True)\n",
    "\n",
    "# Loss\n",
    "plt.subplot(1, 2, 2)\n",
    "plt.plot(results_df['Percobaan'], results_df['Train Loss'], marker='o', label='Train Loss')\n",
    "plt.plot(results_df['Percobaan'], results_df['Val Loss'], marker='o', label='Validation Loss')\n",
    "plt.title('Loss Train vs Validation')\n",
    "plt.xlabel('Percobaan ke-')\n",
    "plt.ylabel('Loss')\n",
    "plt.legend()\n",
    "plt.grid(True)\n",
    "\n",
    "plt.tight_layout()\n",
    "plt.show()\n",
    "\n",
    "# === Evaluasi Percobaan Terbaik ===\n",
    "best_trial = results_df.loc[results_df['Val RMSE'].idxmin()]\n",
    "print(\"\\n=== Percobaan Terbaik ===\")\n",
    "print(f\"Percobaan ke-{best_trial['Percobaan']}\")\n",
    "print(f\"Train MAE: {best_trial['Train MAE']:.4f}\")\n",
    "print(f\"Val MAE: {best_trial['Val MAE']:.4f}\")\n",
    "print(f\"Train RMSE: {best_trial['Train RMSE']:.4f}\")\n",
    "print(f\"Val RMSE: {best_trial['Val RMSE']:.4f}\")\n",
    "print(f\"Train Loss: {best_trial['Train Loss']:.4f}\")\n",
    "print(f\"Val Loss: {best_trial['Val Loss']:.4f}\")\n",
    "print(f\"Model: {best_trial['Loss Function']} + {best_trial['Optimizer']}\")"
   ]
  },
  {
   "cell_type": "code",
   "execution_count": 22,
   "metadata": {
    "id": "By-mxSDEhvsT"
   },
   "outputs": [
    {
     "ename": "KeyError",
     "evalue": "'Final MAE'",
     "output_type": "error",
     "traceback": [
      "\u001b[1;31m---------------------------------------------------------------------------\u001b[0m",
      "\u001b[1;31mKeyError\u001b[0m                                  Traceback (most recent call last)",
      "File \u001b[1;32m~\\anaconda3\\Lib\\site-packages\\pandas\\core\\indexes\\base.py:3802\u001b[0m, in \u001b[0;36mIndex.get_loc\u001b[1;34m(self, key, method, tolerance)\u001b[0m\n\u001b[0;32m   3801\u001b[0m \u001b[38;5;28;01mtry\u001b[39;00m:\n\u001b[1;32m-> 3802\u001b[0m     \u001b[38;5;28;01mreturn\u001b[39;00m \u001b[38;5;28mself\u001b[39m\u001b[38;5;241m.\u001b[39m_engine\u001b[38;5;241m.\u001b[39mget_loc(casted_key)\n\u001b[0;32m   3803\u001b[0m \u001b[38;5;28;01mexcept\u001b[39;00m \u001b[38;5;167;01mKeyError\u001b[39;00m \u001b[38;5;28;01mas\u001b[39;00m err:\n",
      "File \u001b[1;32m~\\anaconda3\\Lib\\site-packages\\pandas\\_libs\\index.pyx:138\u001b[0m, in \u001b[0;36mpandas._libs.index.IndexEngine.get_loc\u001b[1;34m()\u001b[0m\n",
      "File \u001b[1;32m~\\anaconda3\\Lib\\site-packages\\pandas\\_libs\\index.pyx:165\u001b[0m, in \u001b[0;36mpandas._libs.index.IndexEngine.get_loc\u001b[1;34m()\u001b[0m\n",
      "File \u001b[1;32mpandas\\_libs\\hashtable_class_helper.pxi:5745\u001b[0m, in \u001b[0;36mpandas._libs.hashtable.PyObjectHashTable.get_item\u001b[1;34m()\u001b[0m\n",
      "File \u001b[1;32mpandas\\_libs\\hashtable_class_helper.pxi:5753\u001b[0m, in \u001b[0;36mpandas._libs.hashtable.PyObjectHashTable.get_item\u001b[1;34m()\u001b[0m\n",
      "\u001b[1;31mKeyError\u001b[0m: 'Final MAE'",
      "\nThe above exception was the direct cause of the following exception:\n",
      "\u001b[1;31mKeyError\u001b[0m                                  Traceback (most recent call last)",
      "Cell \u001b[1;32mIn[22], line 25\u001b[0m\n\u001b[0;32m     22\u001b[0m         plt\u001b[38;5;241m.\u001b[39mshow()\n\u001b[0;32m     24\u001b[0m \u001b[38;5;66;03m# Plot hasil untuk MAE\u001b[39;00m\n\u001b[1;32m---> 25\u001b[0m plot_results(results_df, metric\u001b[38;5;241m=\u001b[39m\u001b[38;5;124m'\u001b[39m\u001b[38;5;124mFinal MAE\u001b[39m\u001b[38;5;124m'\u001b[39m)\n\u001b[0;32m     27\u001b[0m \u001b[38;5;66;03m# Plot hasil untuk MSE\u001b[39;00m\n\u001b[0;32m     28\u001b[0m plot_results(results_df, metric\u001b[38;5;241m=\u001b[39m\u001b[38;5;124m'\u001b[39m\u001b[38;5;124mFinal MSE\u001b[39m\u001b[38;5;124m'\u001b[39m)\n",
      "Cell \u001b[1;32mIn[22], line 15\u001b[0m, in \u001b[0;36mplot_results\u001b[1;34m(results_df, metric, per_page)\u001b[0m\n\u001b[0;32m     12\u001b[0m subset \u001b[38;5;241m=\u001b[39m results_df\u001b[38;5;241m.\u001b[39miloc[start_idx:end_idx]\n\u001b[0;32m     14\u001b[0m plt\u001b[38;5;241m.\u001b[39mfigure(figsize\u001b[38;5;241m=\u001b[39m(\u001b[38;5;241m12\u001b[39m, \u001b[38;5;241m6\u001b[39m))\n\u001b[1;32m---> 15\u001b[0m plt\u001b[38;5;241m.\u001b[39mbar(subset[\u001b[38;5;124m'\u001b[39m\u001b[38;5;124mPercobaan\u001b[39m\u001b[38;5;124m'\u001b[39m], subset[metric], color\u001b[38;5;241m=\u001b[39m\u001b[38;5;124m'\u001b[39m\u001b[38;5;124mskyblue\u001b[39m\u001b[38;5;124m'\u001b[39m)\n\u001b[0;32m     16\u001b[0m plt\u001b[38;5;241m.\u001b[39mxlabel(\u001b[38;5;124m'\u001b[39m\u001b[38;5;124mPercobaan\u001b[39m\u001b[38;5;124m'\u001b[39m)\n\u001b[0;32m     17\u001b[0m plt\u001b[38;5;241m.\u001b[39mylabel(metric)\n",
      "File \u001b[1;32m~\\anaconda3\\Lib\\site-packages\\pandas\\core\\frame.py:3807\u001b[0m, in \u001b[0;36mDataFrame.__getitem__\u001b[1;34m(self, key)\u001b[0m\n\u001b[0;32m   3805\u001b[0m \u001b[38;5;28;01mif\u001b[39;00m \u001b[38;5;28mself\u001b[39m\u001b[38;5;241m.\u001b[39mcolumns\u001b[38;5;241m.\u001b[39mnlevels \u001b[38;5;241m>\u001b[39m \u001b[38;5;241m1\u001b[39m:\n\u001b[0;32m   3806\u001b[0m     \u001b[38;5;28;01mreturn\u001b[39;00m \u001b[38;5;28mself\u001b[39m\u001b[38;5;241m.\u001b[39m_getitem_multilevel(key)\n\u001b[1;32m-> 3807\u001b[0m indexer \u001b[38;5;241m=\u001b[39m \u001b[38;5;28mself\u001b[39m\u001b[38;5;241m.\u001b[39mcolumns\u001b[38;5;241m.\u001b[39mget_loc(key)\n\u001b[0;32m   3808\u001b[0m \u001b[38;5;28;01mif\u001b[39;00m is_integer(indexer):\n\u001b[0;32m   3809\u001b[0m     indexer \u001b[38;5;241m=\u001b[39m [indexer]\n",
      "File \u001b[1;32m~\\anaconda3\\Lib\\site-packages\\pandas\\core\\indexes\\base.py:3804\u001b[0m, in \u001b[0;36mIndex.get_loc\u001b[1;34m(self, key, method, tolerance)\u001b[0m\n\u001b[0;32m   3802\u001b[0m     \u001b[38;5;28;01mreturn\u001b[39;00m \u001b[38;5;28mself\u001b[39m\u001b[38;5;241m.\u001b[39m_engine\u001b[38;5;241m.\u001b[39mget_loc(casted_key)\n\u001b[0;32m   3803\u001b[0m \u001b[38;5;28;01mexcept\u001b[39;00m \u001b[38;5;167;01mKeyError\u001b[39;00m \u001b[38;5;28;01mas\u001b[39;00m err:\n\u001b[1;32m-> 3804\u001b[0m     \u001b[38;5;28;01mraise\u001b[39;00m \u001b[38;5;167;01mKeyError\u001b[39;00m(key) \u001b[38;5;28;01mfrom\u001b[39;00m \u001b[38;5;21;01merr\u001b[39;00m\n\u001b[0;32m   3805\u001b[0m \u001b[38;5;28;01mexcept\u001b[39;00m \u001b[38;5;167;01mTypeError\u001b[39;00m:\n\u001b[0;32m   3806\u001b[0m     \u001b[38;5;66;03m# If we have a listlike key, _check_indexing_error will raise\u001b[39;00m\n\u001b[0;32m   3807\u001b[0m     \u001b[38;5;66;03m#  InvalidIndexError. Otherwise we fall through and re-raise\u001b[39;00m\n\u001b[0;32m   3808\u001b[0m     \u001b[38;5;66;03m#  the TypeError.\u001b[39;00m\n\u001b[0;32m   3809\u001b[0m     \u001b[38;5;28mself\u001b[39m\u001b[38;5;241m.\u001b[39m_check_indexing_error(key)\n",
      "\u001b[1;31mKeyError\u001b[0m: 'Final MAE'"
     ]
    },
    {
     "data": {
      "text/plain": [
       "<Figure size 1200x600 with 0 Axes>"
      ]
     },
     "metadata": {},
     "output_type": "display_data"
    }
   ],
   "source": [
    "import matplotlib.pyplot as plt\n",
    "\n",
    "# Fungsi plotting 10 percobaan per halaman\n",
    "def plot_results(results_df, metric='Final MAE', per_page=10):\n",
    "    total_experiments = len(results_df)\n",
    "    pages = (total_experiments + per_page - 1) // per_page  # hitung jumlah halaman\n",
    "\n",
    "    for page in range(pages):\n",
    "        start_idx = page * per_page\n",
    "        end_idx = min(start_idx + per_page, total_experiments)\n",
    "\n",
    "        subset = results_df.iloc[start_idx:end_idx]\n",
    "\n",
    "        plt.figure(figsize=(12, 6))\n",
    "        plt.bar(subset['Percobaan'], subset[metric], color='skyblue')\n",
    "        plt.xlabel('Percobaan')\n",
    "        plt.ylabel(metric)\n",
    "        plt.title(f'{metric} untuk Percobaan {start_idx + 1} - {end_idx}')\n",
    "        plt.xticks(subset['Percobaan'])  # Biar angka percobaannya kelihatan\n",
    "        plt.grid(True)\n",
    "        plt.tight_layout()\n",
    "        plt.show()\n",
    "\n",
    "# Plot hasil untuk MAE\n",
    "plot_results(results_df, metric='Final MAE')\n",
    "\n",
    "# Plot hasil untuk MSE\n",
    "plot_results(results_df, metric='Final MSE')\n",
    "\n",
    "# Plot hasil untuk Loss\n",
    "plot_results(results_df, metric='Final Loss')\n",
    "\n",
    "\n",
    "\n",
    "\n",
    "\n",
    "\n",
    "\n",
    "\n",
    "\n",
    "\n",
    "\n",
    "\n",
    "\n",
    "\n",
    "\n",
    "\n",
    "\n",
    "\n",
    "\n",
    "\n",
    "\n",
    "\n",
    "\n",
    "\n",
    "\n",
    "\n",
    "\n",
    "\n",
    "\n",
    "\n",
    "\n",
    "\n",
    "\n",
    "\n",
    "\n",
    "\n",
    "\n",
    "\n",
    "\n",
    "\n",
    "\n",
    "\n",
    "\n",
    "\n",
    "\n",
    "\n",
    "\n",
    "\n",
    "\n",
    "\n",
    "\n",
    "\n",
    "\n",
    "\n",
    "\n",
    "\n",
    "\n",
    "\n",
    "\n"
   ]
  },
  {
   "cell_type": "code",
   "execution_count": null,
   "metadata": {},
   "outputs": [],
   "source": []
  }
 ],
 "metadata": {
  "accelerator": "GPU",
  "colab": {
   "gpuType": "T4",
   "provenance": []
  },
  "kernelspec": {
   "display_name": "Python 3 (ipykernel)",
   "language": "python",
   "name": "python3"
  },
  "language_info": {
   "codemirror_mode": {
    "name": "ipython",
    "version": 3
   },
   "file_extension": ".py",
   "mimetype": "text/x-python",
   "name": "python",
   "nbconvert_exporter": "python",
   "pygments_lexer": "ipython3",
   "version": "3.11.4"
  }
 },
 "nbformat": 4,
 "nbformat_minor": 1
}
